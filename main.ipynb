{
 "cells": [
  {
   "cell_type": "code",
   "execution_count": null,
   "metadata": {},
   "outputs": [],
   "source": [
    "import numpy as np\n",
    "import pandas as pd\n",
    "import matplotlib.pyplot as plt\n",
    "import seaborn as sns\n",
    "import glob as glob\n",
    "import os"
   ]
  },
  {
   "cell_type": "markdown",
   "metadata": {},
   "source": [
    "Data Preparation"
   ]
  },
  {
   "cell_type": "code",
   "execution_count": null,
   "metadata": {},
   "outputs": [],
   "source": [
    "\n",
    "path= \"D:\\\\Main\\\\Personal Project\\\\Datavidia\\\\Harga Bahan Pangan\\\\train\"\n",
    "\n",
    "allTrainData = glob.glob(os.path.join(path, \"*.csv\"))\n",
    "\n",
    "dfFull =[]\n",
    "\n",
    "for file in allTrainData:\n",
    "    commodity = os.path.basename(file).replace(\".csv\",\"\")\n",
    "\n",
    "    dftemp = pd.read_csv(file , index_col = 0)\n",
    "    dftemp.fillna(method = \"ffill\", inplace= True)\n",
    "    dftemp.fillna(method = \"bfill\", inplace= True)\n",
    "\n",
    "    # Drop rows with NULL values instead of filling\n",
    "    # dftemp.dropna(inplace=True)\n",
    "\n",
    "    dftemp = dftemp.melt(ignore_index=False, var_name= \"Provinsi\", value_name= \"Price\")\n",
    "    dftemp.reset_index(inplace=True)\n",
    "\n",
    "    dftemp[\"Commodity\"] = commodity\n",
    "\n",
    "    dfFull.append(dftemp)\n",
    "\n",
    "dfFull = pd.concat(dfFull, ignore_index=True)\n",
    "\n",
    "dfFull.sort_values(by=['Date', 'Provinsi'], inplace= True)\n",
    "dfFull.reset_index(drop=True, inplace=True)\n",
    "dfFull[\"Date\"] = pd.to_datetime(dfFull[\"Date\"])\n",
    "\n",
    "dfFull.info()\n",
    "dfFull"
   ]
  },
  {
   "cell_type": "code",
   "execution_count": null,
   "metadata": {},
   "outputs": [],
   "source": [
    "# dfFullCP1 = dfFull.copy()\n",
    "\n",
    "# dfMYRUSD = pd.read_csv(r\"E:\\Xov\\Adobe and other stuff\\Coding\\Python\\Arkavidia\\comodity-price-prediction-penyisihan-arkavidia-9\\Mata Uang\\MYRUSD=X.csv\")\n",
    "# dfSGDUSD = pd.read_csv(r\"E:\\Xov\\Adobe and other stuff\\Coding\\Python\\Arkavidia\\comodity-price-prediction-penyisihan-arkavidia-9\\Mata Uang\\SGDUSD=X.csv\")\n",
    "# dfTHBUSD = pd.read_csv(r\"E:\\Xov\\Adobe and other stuff\\Coding\\Python\\Arkavidia\\comodity-price-prediction-penyisihan-arkavidia-9\\Mata Uang\\THBUSD=X.csv\")\n",
    "# dfUSDIDR = pd.read_csv(r\"E:\\Xov\\Adobe and other stuff\\Coding\\Python\\Arkavidia\\comodity-price-prediction-penyisihan-arkavidia-9\\Mata Uang\\USDIDR=X.csv\")\n",
    "\n",
    "# dfMYRUSD = dfMYRUSD.rename(columns={\"Open\": \"Open_MYR\", \"High\": \"High_MYR\", \"Low\": \"Low_MYR\", \"Close\": \"Close_MYR\", \"Adj Close\": \"AdjClose_MYR\", \"Volume\": \"Volume_MYR\"})\n",
    "# dfSGDUSD = dfSGDUSD.rename(columns={\"Open\": \"Open_SGD\", \"High\": \"High_SGD\", \"Low\": \"Low_SGD\", \"Close\": \"Close_SGD\", \"Adj Close\": \"AdjClose_SGD\", \"Volume\": \"Volume_SGD\"})\n",
    "# dfTHBUSD = dfTHBUSD.rename(columns={\"Open\": \"Open_THB\", \"High\": \"High_THB\", \"Low\": \"Low_THB\", \"Close\": \"Close_THB\", \"Adj Close\": \"AdjClose_THB\", \"Volume\": \"Volume_THB\"})\n",
    "# dfUSDIDR = dfUSDIDR.rename(columns={\"Open\": \"Open_IDR\", \"High\": \"High_IDR\", \"Low\": \"Low_IDR\", \"Close\": \"Close_IDR\", \"Adj Close\": \"AdjClose_IDR\", \"Volume\": \"Volume_IDR\"})\n",
    "\n",
    "# dfFullCP1 = pd.merge(dfFullCP1, dfMYRUSD, on=[\"Date\"], how=\"left\")\n",
    "# dfFullCP1 = pd.merge(dfFullCP1, dfSGDUSD, on=[\"Date\"], how=\"left\")\n",
    "# dfFullCP1 = pd.merge(dfFullCP1, dfTHBUSD, on=[\"Date\"], how=\"left\")\n",
    "# dfFullCP1 = pd.merge(dfFullCP1, dfUSDIDR, on=[\"Date\"], how=\"left\")"
   ]
  },
  {
   "cell_type": "code",
   "execution_count": null,
   "metadata": {},
   "outputs": [],
   "source": [
    "# dfFullCP1.fillna(method=\"ffill\", inplace= True)\n",
    "# dfFullCP1.fillna(method=\"bfill\", inplace= True)\n",
    "\n",
    "# dfFullCP1"
   ]
  },
  {
   "cell_type": "code",
   "execution_count": null,
   "metadata": {},
   "outputs": [],
   "source": [
    "df_avg = dfFull.groupby([\"Date\", \"Commodity\"])[\"Price\"].mean().reset_index()\n",
    "\n",
    "# Define a custom color palette with 13 distinct colors\n",
    "colors = [\"#FF5733\", \"#33FF57\", \"#3357FF\", \"#FF33A1\", \"#FFD700\",\n",
    "          \"#8A2BE2\", \"#00CED1\", \"#FF4500\", \"#228B22\", \"#D2691E\",\n",
    "          \"#DC143C\", \"#556B2F\", \"#9932CC\"]  # 13 colors\n",
    "\n",
    "# Create a figure\n",
    "plt.figure(figsize=(16, 8))\n",
    "\n",
    "# Plot each commodity with a different color\n",
    "for i, commodity in enumerate(df_avg[\"Commodity\"].unique()):\n",
    "    subset = df_avg[df_avg[\"Commodity\"] == commodity]\n",
    "    plt.plot(subset[\"Date\"], subset[\"Price\"], label=commodity, \n",
    "             color=colors[i % len(colors)], linewidth=2.5, alpha=1)  # Ensure alpha is 1\n",
    "\n",
    "# plt.xlim(pd.Timestamp(\"2022-06-01\"), pd.Timestamp(\"2022-07-30\"))\n",
    "\n",
    "# Formatting the plot\n",
    "plt.title(\"Average Price of Commodities Over Time\", fontsize=14)\n",
    "plt.xlabel(\"Date\", fontsize=12)\n",
    "plt.ylabel(\"Average Price\", fontsize=12)\n",
    "plt.xticks(rotation=45)  # Rotate x-axis labels for better visibility\n",
    "plt.legend(title=\"Commodity\", bbox_to_anchor=(1.05, 1), loc=\"upper left\")  # Move legend outside\n",
    "plt.grid(True, linestyle=\"--\", alpha=1)\n",
    "\n",
    "# Show plot\n",
    "plt.tight_layout()\n",
    "plt.show()"
   ]
  },
  {
   "cell_type": "code",
   "execution_count": null,
   "metadata": {},
   "outputs": [],
   "source": [
    "from sklearn.model_selection import train_test_split\n",
    "from sklearn.preprocessing import LabelEncoder\n",
    "from sklearn.ensemble import RandomForestRegressor\n",
    "from sklearn.metrics import mean_absolute_error\n",
    "from sklearn.metrics import mean_absolute_percentage_error\n",
    "import xgboost as xgb"
   ]
  },
  {
   "cell_type": "markdown",
   "metadata": {},
   "source": [
    "Data Learning"
   ]
  },
  {
   "cell_type": "code",
   "execution_count": null,
   "metadata": {},
   "outputs": [],
   "source": [
    "\n",
    "# Extract day and month\n",
    "dfFull[\"Day\"] = dfFull[\"Date\"].dt.day\n",
    "dfFull[\"Month\"] = dfFull[\"Date\"].dt.month\n",
    "\n",
    "# Extract days since the first date in the dataset\n",
    "dfFull[\"Days\"] = (dfFull[\"Date\"]- dfFull[\"Date\"].min()).dt.days \n",
    "\n",
    "# Label Encoding for categorical columns\n",
    "le_provinsi = LabelEncoder()\n",
    "dfFull[\"Provinsi\"] = le_provinsi.fit_transform(dfFull[\"Provinsi\"])\n",
    "\n",
    "le_commodity = LabelEncoder()\n",
    "dfFull[\"Commodity\"] = le_commodity.fit_transform(dfFull[\"Commodity\"])\n",
    "\n",
    "# Drop the original Date column if not needed\n",
    "dfFull = dfFull.drop(columns=[\"Date\",\"Day\",\"Month\"])\n",
    "\n",
    "# Check the result\n",
    "dfFull.info()\n",
    "dfFull"
   ]
  },
  {
   "cell_type": "code",
   "execution_count": null,
   "metadata": {},
   "outputs": [],
   "source": [
    "# Splitting Data\n",
    "\n",
    "X = dfFull.drop(columns=[\"Price\"]) \n",
    "Y = dfFull[\"Price\"]\n",
    "\n",
    "X_train, X_test, Y_train, Y_test = train_test_split(X, Y, test_size=0.2)"
   ]
  },
  {
   "cell_type": "code",
   "execution_count": null,
   "metadata": {},
   "outputs": [],
   "source": [
    "# Modelling\n",
    "\n",
    "model = RandomForestRegressor(n_estimators=500)\n",
    "model.fit(X_train, Y_train)"
   ]
  },
  {
   "cell_type": "code",
   "execution_count": null,
   "metadata": {},
   "outputs": [],
   "source": [
    "# Evaluation\n",
    "\n",
    "y_pred = model.predict(X_test)\n",
    "mae = mean_absolute_error(Y_test, y_pred)\n",
    "mape = mean_absolute_percentage_error(Y_test, y_pred)\n",
    "print(mae)\n",
    "print(mape)"
   ]
  },
  {
   "cell_type": "markdown",
   "metadata": {},
   "source": [
    "Prediction for Submission"
   ]
  },
  {
   "cell_type": "code",
   "execution_count": null,
   "metadata": {},
   "outputs": [],
   "source": [
    "# Read Submission File\n",
    "submission = pd.read_csv(\"sample_submission.csv\")\n",
    "\n",
    "# Extract Commodity, Provinsi, and Date from the 'id' column\n",
    "submission[\"Commodity\"] = submission[\"id\"].apply(lambda x: x.split(\"/\")[0])\n",
    "submission[\"Provinsi\"] = submission[\"id\"].apply(lambda x: x.split(\"/\")[1])\n",
    "submission[\"Date\"] = pd.to_datetime(submission[\"id\"].apply(lambda x: x.split(\"/\")[2]))\n",
    "\n",
    "# Extract Day and Month instead of Days\n",
    "submission[\"Day\"] = submission[\"Date\"].dt.day\n",
    "submission[\"Month\"] = submission[\"Date\"].dt.month\n",
    "\n",
    "# Extract days since the first date in the dataset\n",
    "submission[\"Days\"] = (submission[\"Date\"] - submission[\"Date\"].min()).dt.days\n",
    "\n",
    "# Apply Label Encoding (must be fitted on training data)\n",
    "submission[\"Provinsi\"] = le_provinsi.transform(submission[\"Provinsi\"])\n",
    "submission[\"Commodity\"] = le_commodity.transform(submission[\"Commodity\"])\n",
    "\n",
    "# Drop the Date column if not needed\n",
    "submission = submission.drop(columns=[\"Date\"])\n",
    "\n",
    "# Check the result\n",
    "submission.info()\n",
    "submission"
   ]
  },
  {
   "cell_type": "code",
   "execution_count": null,
   "metadata": {},
   "outputs": [],
   "source": [
    "# Predict\n",
    "\n",
    "X_test = submission[[\"Provinsi\", \"Commodity\", \"Days\"]]\n",
    "submission[\"price\"] = model.predict(X_test)\n",
    "\n",
    "submission[[\"id\", \"price\"]].to_csv(\"final_submission.csv\", index=False)"
   ]
  }
 ],
 "metadata": {
  "kernelspec": {
   "display_name": "Python 3",
   "language": "python",
   "name": "python3"
  },
  "language_info": {
   "codemirror_mode": {
    "name": "ipython",
    "version": 3
   },
   "file_extension": ".py",
   "mimetype": "text/x-python",
   "name": "python",
   "nbconvert_exporter": "python",
   "pygments_lexer": "ipython3",
   "version": "3.12.4"
  }
 },
 "nbformat": 4,
 "nbformat_minor": 2
}
